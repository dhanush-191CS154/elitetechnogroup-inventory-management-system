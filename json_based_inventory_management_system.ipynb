{
  "nbformat": 4,
  "nbformat_minor": 0,
  "metadata": {
    "colab": {
      "name": "json based inventory management system.ipynb",
      "provenance": []
    },
    "kernelspec": {
      "name": "python3",
      "display_name": "Python 3"
    },
    "language_info": {
      "name": "python"
    }
  },
  "cells": [
    {
      "cell_type": "code",
      "metadata": {
        "colab": {
          "base_uri": "https://localhost:8080/"
        },
        "id": "Ieo47aBSBkeN",
        "outputId": "5ee7dfcb-27c1-4c53-fdd0-e53c693eef9f"
      },
      "source": [
        "import json\n",
        "with open('student (1).json') as fd:\n",
        "  data = json.load(fd)\n",
        "print(\"****Welcome to the student database****\")\n",
        "print(\"1.View student details : \")\n",
        "print(\"2.search student : \")\n",
        "print(\"3.Add new  student record : \")\n",
        "print(\"4.delete  student record : \")\n",
        "print(\"***************\")\n",
        "choice = int(input(\"enter choice : \"))\n",
        "if(choice==1):\n",
        "       print (data)\n",
        "if(choice==2):\n",
        "       reg_no = input(\"enter reg number : \")\n",
        "       print (data[reg_no])\n",
        "if(choice==4):\n",
        "       reg_no = input(\"enter reg number : \")\n",
        "       del data[reg_no]\n",
        "       print(data)\n",
        "if(choice==3):\n",
        "       New_reg = input(\"Enter the Reg NO : \")\n",
        "       New_name = input(\"Enter the Name : \")\n",
        "       New_phone = input(\"Enter the Phone NO : \")\n",
        "       New_dep = input(\"Enter the Department : \")\n",
        "       data[New_reg] = {'name': New_name,'reg_no' : New_reg,'phone_no' : New_phone,'dept' : New_dep}\n",
        "       \n",
        "       js = json.dumps(data)\n",
        "       \n",
        "       fd =  open(\"student (1).json\",\"w\")\n",
        "       fd.write(js)\n",
        "       fd.close()\n",
        "       print(\"Record added successfull !!!\")"
      ],
      "execution_count": 2,
      "outputs": [
        {
          "output_type": "stream",
          "name": "stdout",
          "text": [
            "****Welcome to the student database****\n",
            "1.View student details : \n",
            "2.search student : \n",
            "3.Add new  student record : \n",
            "4.delete  student record : \n",
            "***************\n",
            "enter choice : 2\n",
            "enter reg number : 191ee200\n",
            "{'name': 'mitun', 'reg_no': '191ee200', 'phone_no': '8765412398', 'dept': 'eee'}\n"
          ]
        }
      ]
    },
    {
      "cell_type": "code",
      "metadata": {
        "id": "7BOpa0STuAVG"
      },
      "source": [
        ""
      ],
      "execution_count": null,
      "outputs": []
    }
  ]
}